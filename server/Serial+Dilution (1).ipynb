{
 "cells": [
  {
   "cell_type": "code",
   "execution_count": 1,
   "metadata": {
    "collapsed": false
   },
   "outputs": [],
   "source": [
    "# This cell loads in the API\n",
    "# and then prints out the serial ports\n",
    "\n",
    "# !pip install --upgrade git+git://github.com/OpenTrons/opentrons_sdk.git@master#egg=opentrons\n",
    "\n",
    "from opentrons import containers\n",
    "from opentrons import instruments\n",
    "from opentrons.robot import Robot\n",
    "\n",
    "robot = Robot.get_instance()\n",
    "# robot.get_serial_ports_list()"
   ]
  },
  {
   "cell_type": "code",
   "execution_count": 2,
   "metadata": {
    "collapsed": false,
    "scrolled": true
   },
   "outputs": [
    {
     "data": {
      "text/plain": [
       "True"
      ]
     },
     "execution_count": 2,
     "metadata": {},
     "output_type": "execute_result"
    }
   ],
   "source": [
    "# this cell connects to a robot and immediately homes\n",
    "# if .connect() is called without a port, the smoothieboard is simulated\n",
    "\n",
    "robot.connect() # virtual smoothieboard\n",
    "# robot.connect('/dev/tty.usbmodem1421')\n",
    "# robot.home(now=True)\n"
   ]
  },
  {
   "cell_type": "code",
   "execution_count": 3,
   "metadata": {
    "collapsed": false
   },
   "outputs": [
    {
     "data": {
      "text/plain": [
       "<opentrons.instruments.pipette.Pipette at 0x10330e048>"
      ]
     },
     "execution_count": 3,
     "metadata": {},
     "output_type": "execute_result"
    }
   ],
   "source": [
    "# this cells is similar to the Deck and Head sections in a JSON protocol\n",
    "\n",
    "# Create a JSON protocol with the exact same containers and pipettes as here\n",
    "# They must be the same type, have the same user-defined names, and pipette's on the same axis (a or b)\n",
    "\n",
    "p10rack = containers.load(\n",
    "    'tiprack-10ul',  # container type\n",
    "    'C2',             # slot\n",
    "    'p10-rack'         # user-defined name, optional for now\n",
    ")\n",
    "p200rack = containers.load(\n",
    "    'tiprack-200ul',  # container type\n",
    "    'A1',             # slot\n",
    "    'p200-rack'         # user-defined name, optional for now\n",
    ")\n",
    "trough = containers.load(\n",
    "    'trough-12row',\n",
    "    'E1',\n",
    "    'trough'\n",
    ")\n",
    "plate = containers.load(\n",
    "    '96-PCR-flat',\n",
    "    'C1',\n",
    "    'plate'\n",
    ")\n",
    "trash = containers.load(\n",
    "    'point',\n",
    "    'B2',\n",
    "    'trash'\n",
    ")\n",
    "    \n",
    "p200 = instruments.Pipette(\n",
    "    name=\"p200\", # optional\n",
    "    trash_container=trash,\n",
    "    tip_racks=[p200rack],\n",
    "    min_volume=20, # actual minimum volume of the pipette\n",
    "    axis=\"a\",\n",
    "    channels=8 # \n",
    ")\n",
    "\n",
    "p200.set_max_volume(200)  # volume calibration, can be called whenever you want\n",
    "\n",
    "p10 = instruments.Pipette(\n",
    "    name=\"p10\", # optional\n",
    "    trash_container=trash,\n",
    "    tip_racks=[p10rack],\n",
    "    min_volume=1, # actual minimum volume of the pipette\n",
    "    axis=\"b\",\n",
    "    channels=1 # 1 o\n",
    ")\n",
    "    \n",
    "p10.set_max_volume(10)"
   ]
  },
  {
   "cell_type": "code",
   "execution_count": 4,
   "metadata": {
    "collapsed": false
   },
   "outputs": [],
   "source": [
    "# assume these\n",
    "sample_numbers = 3\n",
    "sample_location = plate.rows[0] #first row of plate\n",
    "diluent_location = trough['A1'] #what the samples are diluted with\n",
    "\n",
    "# inputs from user\n",
    "dilution_number = 3 # how many dilutions\n",
    "dilution_factor = 10 # dilution factor 10X\n",
    "dilution_volume = 200 # in uL\n",
    "\n",
    "# calculate remaining volumes\n",
    "# C1V1 = C2V2\n",
    "# (initial concentration)(initial volume) = (final concentration)(final volume)\n",
    "# (dilution_factor)(sample_volume) = (1X)(dilution_volume)\n",
    "\n",
    "sample_volume = (dilution_volume)/(dilution_factor)\n",
    "diluent_volume = dilution_volume - sample_volume"
   ]
  },
  {
   "cell_type": "code",
   "execution_count": 5,
   "metadata": {
    "collapsed": false
   },
   "outputs": [],
   "source": [
    "# distribute diluent_volume\n",
    "robot.clear()\n",
    "\n",
    "# add diluent to plate based on volume\n",
    "if diluent_volume <= 10:    \n",
    "    p200.pick_up_tip()\n",
    "    for i in range(1, dilution_number + 1):\n",
    "        p200.aspirate(diluent_volume, trough['A1']).dispense(plate.rows[i])\n",
    "    p200.drop_tip()\n",
    "    \n",
    "    for col in range(sample_numbers):\n",
    "        p10.pick_up_tip()\n",
    "        for row in range(1, dilution_number):\n",
    "            p10.aspirate(diluent_volume, plate.rows[row][col]).dispense(plate.rows[row + 1][col])\n",
    "        p10.drop_tip()\n",
    "        \n",
    "else:\n",
    "    for i in range(1, dilution_number + 1):\n",
    "        p200.aspirate(diluent_volume, trough['A1']).dispense(plate.rows[i])\n",
    "    p200.drop_tip()\n",
    "\n",
    "# dilute samples through wells based on volume    \n",
    "if sample_volume <= 10:\n",
    "    for col in range(sample_numbers):\n",
    "        p10.pick_up_tip()\n",
    "        for row in range(0, dilution_number):\n",
    "            p10.aspirate(sample_volume, plate.rows[row][col]).dispense(plate.rows[row + 1][col]).mix(sample_volume, 3, plate.rows[row + 1][col])\n",
    "        p10.drop_tip() \n",
    "else:\n",
    "    # use p200\n",
    "    p200.pick_up_tip()\n",
    "    for i in range(0, dilution_number):\n",
    "        p200.aspirate(sample_volume, plate.rows[i]).dispense(plate.rows[i + 1]).mix(sample_volume, 3, plate.rows[i + 1])\n",
    "    p200.drop_tip()"
   ]
  },
  {
   "cell_type": "code",
   "execution_count": 6,
   "metadata": {
    "collapsed": false
   },
   "outputs": [
    {
     "name": "stdout",
     "output_type": "stream",
     "text": [
      "Aspirating 180.0uL at <Deck>/<Slot E1>/<Container trough>/<Well A1>\n",
      "Dispensing <Series: <Well A2> <Well B2> <Well C2> <Well D2> <Well E2> <Well F2> <Well G2> <Well H2>>uL at <In Place>\n",
      "Aspirating 180.0uL at <Deck>/<Slot E1>/<Container trough>/<Well A1>\n",
      "Dispensing <Series: <Well A3> <Well B3> <Well C3> <Well D3> <Well E3> <Well F3> <Well G3> <Well H3>>uL at <In Place>\n",
      "Aspirating 180.0uL at <Deck>/<Slot E1>/<Container trough>/<Well A1>\n",
      "Dispensing <Series: <Well A4> <Well B4> <Well C4> <Well D4> <Well E4> <Well F4> <Well G4> <Well H4>>uL at <In Place>\n",
      "Drop_tip at <In Place>\n",
      "Picking up tip from <In Place>\n",
      "Aspirating 20.0uL at <Deck>/<Slot C1>/<Container plate>/<Series: <Well A1> <Well B1> <Well C1> <Well D1> <Well E1> <Well F1> <Well G1> <Well H1>>\n",
      "Dispensing <Series: <Well A2> <Well B2> <Well C2> <Well D2> <Well E2> <Well F2> <Well G2> <Well H2>>uL at <In Place>\n",
      "Mixing 3 times with a volume of 0ul\n",
      "Aspirating 20.0uL at <Deck>/<Slot C1>/<Container plate>/<Series: <Well A2> <Well B2> <Well C2> <Well D2> <Well E2> <Well F2> <Well G2> <Well H2>>\n",
      "Dispensing 20.0uL at <In Place>\n",
      "Aspirating 20.0uL at <In Place>\n",
      "Dispensing 20.0uL at <In Place>\n",
      "Aspirating 20.0uL at <In Place>\n",
      "Dispensing 20.0uL at <In Place>\n",
      "Aspirating 20.0uL at <Deck>/<Slot C1>/<Container plate>/<Series: <Well A2> <Well B2> <Well C2> <Well D2> <Well E2> <Well F2> <Well G2> <Well H2>>\n",
      "Dispensing <Series: <Well A3> <Well B3> <Well C3> <Well D3> <Well E3> <Well F3> <Well G3> <Well H3>>uL at <In Place>\n",
      "Mixing 3 times with a volume of 0ul\n",
      "Aspirating 20.0uL at <Deck>/<Slot C1>/<Container plate>/<Series: <Well A3> <Well B3> <Well C3> <Well D3> <Well E3> <Well F3> <Well G3> <Well H3>>\n",
      "Dispensing 20.0uL at <In Place>\n",
      "Aspirating 20.0uL at <In Place>\n",
      "Dispensing 20.0uL at <In Place>\n",
      "Aspirating 20.0uL at <In Place>\n",
      "Dispensing 20.0uL at <In Place>\n",
      "Aspirating 20.0uL at <Deck>/<Slot C1>/<Container plate>/<Series: <Well A3> <Well B3> <Well C3> <Well D3> <Well E3> <Well F3> <Well G3> <Well H3>>\n",
      "Dispensing <Series: <Well A4> <Well B4> <Well C4> <Well D4> <Well E4> <Well F4> <Well G4> <Well H4>>uL at <In Place>\n",
      "Mixing 3 times with a volume of 0ul\n",
      "Aspirating 20.0uL at <Deck>/<Slot C1>/<Container plate>/<Series: <Well A4> <Well B4> <Well C4> <Well D4> <Well E4> <Well F4> <Well G4> <Well H4>>\n",
      "Dispensing 20.0uL at <In Place>\n",
      "Aspirating 20.0uL at <In Place>\n",
      "Dispensing 20.0uL at <In Place>\n",
      "Aspirating 20.0uL at <In Place>\n",
      "Dispensing 20.0uL at <In Place>\n",
      "Drop_tip at <In Place>\n"
     ]
    },
    {
     "data": {
      "text/plain": [
       "[\"0.0µl is less than pipette's min_volume (20ul).\",\n",
       " \"0.0µl is less than pipette's min_volume (20ul).\",\n",
       " \"0.0µl is less than pipette's min_volume (20ul).\",\n",
       " \"0.0µl is less than pipette's min_volume (20ul).\",\n",
       " \"0.0µl is less than pipette's min_volume (20ul).\",\n",
       " \"0.0µl is less than pipette's min_volume (20ul).\",\n",
       " \"0.0µl is less than pipette's min_volume (20ul).\",\n",
       " \"0.0µl is less than pipette's min_volume (20ul).\",\n",
       " \"0.0µl is less than pipette's min_volume (20ul).\",\n",
       " \"0.0µl is less than pipette's min_volume (20ul).\",\n",
       " \"0.0µl is less than pipette's min_volume (20ul).\",\n",
       " \"0.0µl is less than pipette's min_volume (20ul).\",\n",
       " \"0.0µl is less than pipette's min_volume (20ul).\",\n",
       " \"0.0µl is less than pipette's min_volume (20ul).\",\n",
       " \"0.0µl is less than pipette's min_volume (20ul).\"]"
      ]
     },
     "execution_count": 6,
     "metadata": {},
     "output_type": "execute_result"
    }
   ],
   "source": [
    "print('\\n'.join([str(c.description) for c in robot._commands]))\n",
    "robot.simulate()"
   ]
  },
  {
   "cell_type": "code",
   "execution_count": 7,
   "metadata": {
    "collapsed": false
   },
   "outputs": [
    {
     "ename": "RuntimeWarning",
     "evalue": "Y limit switch hit",
     "output_type": "error",
     "traceback": [
      "\u001b[0;31m---------------------------------------------------------------------------\u001b[0m",
      "\u001b[0;31mRuntimeWarning\u001b[0m                            Traceback (most recent call last)",
      "\u001b[0;32m<ipython-input-7-74bc9b287cb2>\u001b[0m in \u001b[0;36m<module>\u001b[0;34m()\u001b[0m\n\u001b[1;32m      1\u001b[0m \u001b[0mrobot\u001b[0m\u001b[0;34m.\u001b[0m\u001b[0mconnect\u001b[0m\u001b[0;34m(\u001b[0m\u001b[0mrobot\u001b[0m\u001b[0;34m.\u001b[0m\u001b[0mget_serial_ports_list\u001b[0m\u001b[0;34m(\u001b[0m\u001b[0;34m)\u001b[0m\u001b[0;34m[\u001b[0m\u001b[0;36m0\u001b[0m\u001b[0;34m]\u001b[0m\u001b[0;34m)\u001b[0m\u001b[0;34m\u001b[0m\u001b[0m\n\u001b[0;32m----> 2\u001b[0;31m \u001b[0mrobot\u001b[0m\u001b[0;34m.\u001b[0m\u001b[0mrun\u001b[0m\u001b[0;34m(\u001b[0m\u001b[0;34m)\u001b[0m\u001b[0;34m\u001b[0m\u001b[0m\n\u001b[0m",
      "\u001b[0;32m/Users/andysigler/Documents/opentrons-api/opentrons/robot/robot.py\u001b[0m in \u001b[0;36mrun\u001b[0;34m(self)\u001b[0m\n\u001b[1;32m    289\u001b[0m                 \u001b[0;32mif\u001b[0m \u001b[0mcommand\u001b[0m\u001b[0;34m.\u001b[0m\u001b[0mdescription\u001b[0m\u001b[0;34m:\u001b[0m\u001b[0;34m\u001b[0m\u001b[0m\n\u001b[1;32m    290\u001b[0m                     \u001b[0mlog\u001b[0m\u001b[0;34m.\u001b[0m\u001b[0minfo\u001b[0m\u001b[0;34m(\u001b[0m\u001b[0;34m\"Executing: {}\"\u001b[0m\u001b[0;34m.\u001b[0m\u001b[0mformat\u001b[0m\u001b[0;34m(\u001b[0m\u001b[0mcommand\u001b[0m\u001b[0;34m.\u001b[0m\u001b[0mdescription\u001b[0m\u001b[0;34m)\u001b[0m\u001b[0;34m)\u001b[0m\u001b[0;34m\u001b[0m\u001b[0m\n\u001b[0;32m--> 291\u001b[0;31m                 \u001b[0mcommand\u001b[0m\u001b[0;34m.\u001b[0m\u001b[0mdo\u001b[0m\u001b[0;34m(\u001b[0m\u001b[0;34m)\u001b[0m\u001b[0;34m\u001b[0m\u001b[0m\n\u001b[0m\u001b[1;32m    292\u001b[0m             \u001b[0;32mexcept\u001b[0m \u001b[0mKeyboardInterrupt\u001b[0m \u001b[0;32mas\u001b[0m \u001b[0me\u001b[0m\u001b[0;34m:\u001b[0m\u001b[0;34m\u001b[0m\u001b[0m\n\u001b[1;32m    293\u001b[0m                 \u001b[0mself\u001b[0m\u001b[0;34m.\u001b[0m\u001b[0m_driver\u001b[0m\u001b[0;34m.\u001b[0m\u001b[0mhalt\u001b[0m\u001b[0;34m(\u001b[0m\u001b[0;34m)\u001b[0m\u001b[0;34m\u001b[0m\u001b[0m\n",
      "\u001b[0;32m/Users/andysigler/Documents/opentrons-api/opentrons/instruments/pipette.py\u001b[0m in \u001b[0;36m_do_aspirate\u001b[0;34m()\u001b[0m\n\u001b[1;32m    135\u001b[0m                 )\n\u001b[1;32m    136\u001b[0m \u001b[0;34m\u001b[0m\u001b[0m\n\u001b[0;32m--> 137\u001b[0;31m             \u001b[0mself\u001b[0m\u001b[0;34m.\u001b[0m\u001b[0mposition_for_aspirate\u001b[0m\u001b[0;34m(\u001b[0m\u001b[0mlocation\u001b[0m\u001b[0;34m)\u001b[0m\u001b[0;34m\u001b[0m\u001b[0m\n\u001b[0m\u001b[1;32m    138\u001b[0m \u001b[0;34m\u001b[0m\u001b[0m\n\u001b[1;32m    139\u001b[0m             \u001b[0mself\u001b[0m\u001b[0;34m.\u001b[0m\u001b[0mcurrent_volume\u001b[0m \u001b[0;34m+=\u001b[0m \u001b[0mvolume\u001b[0m\u001b[0;34m\u001b[0m\u001b[0m\n",
      "\u001b[0;32m/Users/andysigler/Documents/opentrons-api/opentrons/instruments/pipette.py\u001b[0m in \u001b[0;36mposition_for_aspirate\u001b[0;34m(self, location)\u001b[0m\n\u001b[1;32m    194\u001b[0m         \u001b[0;32mif\u001b[0m \u001b[0mlocation\u001b[0m\u001b[0;34m:\u001b[0m\u001b[0;34m\u001b[0m\u001b[0m\n\u001b[1;32m    195\u001b[0m             \u001b[0mplaceable\u001b[0m\u001b[0;34m,\u001b[0m \u001b[0m_\u001b[0m \u001b[0;34m=\u001b[0m \u001b[0mcontainers\u001b[0m\u001b[0;34m.\u001b[0m\u001b[0munpack_location\u001b[0m\u001b[0;34m(\u001b[0m\u001b[0mlocation\u001b[0m\u001b[0;34m)\u001b[0m\u001b[0;34m\u001b[0m\u001b[0m\n\u001b[0;32m--> 196\u001b[0;31m             \u001b[0mself\u001b[0m\u001b[0;34m.\u001b[0m\u001b[0mmove_to\u001b[0m\u001b[0;34m(\u001b[0m\u001b[0mplaceable\u001b[0m\u001b[0;34m.\u001b[0m\u001b[0mtop\u001b[0m\u001b[0;34m(\u001b[0m\u001b[0;34m)\u001b[0m\u001b[0;34m,\u001b[0m \u001b[0mstrategy\u001b[0m\u001b[0;34m=\u001b[0m\u001b[0;34m'arc'\u001b[0m\u001b[0;34m,\u001b[0m \u001b[0mnow\u001b[0m\u001b[0;34m=\u001b[0m\u001b[0;32mTrue\u001b[0m\u001b[0;34m)\u001b[0m\u001b[0;34m\u001b[0m\u001b[0m\n\u001b[0m\u001b[1;32m    197\u001b[0m \u001b[0;34m\u001b[0m\u001b[0m\n\u001b[1;32m    198\u001b[0m         \u001b[0;31m# setup the plunger above the liquid\u001b[0m\u001b[0;34m\u001b[0m\u001b[0;34m\u001b[0m\u001b[0m\n",
      "\u001b[0;32m/Users/andysigler/Documents/opentrons-api/opentrons/instruments/pipette.py\u001b[0m in \u001b[0;36mmove_to\u001b[0;34m(self, location, strategy, now)\u001b[0m\n\u001b[1;32m    115\u001b[0m                 \u001b[0minstrument\u001b[0m\u001b[0;34m=\u001b[0m\u001b[0mself\u001b[0m\u001b[0;34m,\u001b[0m\u001b[0;34m\u001b[0m\u001b[0m\n\u001b[1;32m    116\u001b[0m                 \u001b[0mstrategy\u001b[0m\u001b[0;34m=\u001b[0m\u001b[0mstrategy\u001b[0m\u001b[0;34m,\u001b[0m\u001b[0;34m\u001b[0m\u001b[0m\n\u001b[0;32m--> 117\u001b[0;31m                 now=now)\n\u001b[0m\u001b[1;32m    118\u001b[0m \u001b[0;34m\u001b[0m\u001b[0m\n\u001b[1;32m    119\u001b[0m         \u001b[0;32mreturn\u001b[0m \u001b[0mself\u001b[0m\u001b[0;34m\u001b[0m\u001b[0m\n",
      "\u001b[0;32m/Users/andysigler/Documents/opentrons-api/opentrons/util/trace.py\u001b[0m in \u001b[0;36mdecorated\u001b[0;34m(*args, **kwargs)\u001b[0m\n\u001b[1;32m      7\u001b[0m         \u001b[0;34m@\u001b[0m\u001b[0mwraps\u001b[0m\u001b[0;34m(\u001b[0m\u001b[0mf\u001b[0m\u001b[0;34m)\u001b[0m\u001b[0;34m\u001b[0m\u001b[0m\n\u001b[1;32m      8\u001b[0m         \u001b[0;32mdef\u001b[0m \u001b[0mdecorated\u001b[0m\u001b[0;34m(\u001b[0m\u001b[0;34m*\u001b[0m\u001b[0margs\u001b[0m\u001b[0;34m,\u001b[0m \u001b[0;34m**\u001b[0m\u001b[0mkwargs\u001b[0m\u001b[0;34m)\u001b[0m\u001b[0;34m:\u001b[0m\u001b[0;34m\u001b[0m\u001b[0m\n\u001b[0;32m----> 9\u001b[0;31m             \u001b[0mres\u001b[0m \u001b[0;34m=\u001b[0m \u001b[0mf\u001b[0m\u001b[0;34m(\u001b[0m\u001b[0;34m*\u001b[0m\u001b[0margs\u001b[0m\u001b[0;34m,\u001b[0m \u001b[0;34m**\u001b[0m\u001b[0mkwargs\u001b[0m\u001b[0;34m)\u001b[0m\u001b[0;34m\u001b[0m\u001b[0m\n\u001b[0m\u001b[1;32m     10\u001b[0m             \u001b[0mbroker\u001b[0m \u001b[0;34m=\u001b[0m \u001b[0mEventBroker\u001b[0m\u001b[0;34m.\u001b[0m\u001b[0mget_instance\u001b[0m\u001b[0;34m(\u001b[0m\u001b[0;34m)\u001b[0m\u001b[0;34m\u001b[0m\u001b[0m\n\u001b[1;32m     11\u001b[0m \u001b[0;34m\u001b[0m\u001b[0m\n",
      "\u001b[0;32m/Users/andysigler/Documents/opentrons-api/opentrons/robot/robot.py\u001b[0m in \u001b[0;36mmove_to\u001b[0;34m(self, location, instrument, strategy, now)\u001b[0m\n\u001b[1;32m    255\u001b[0m \u001b[0;34m\u001b[0m\u001b[0m\n\u001b[1;32m    256\u001b[0m         \u001b[0;32mif\u001b[0m \u001b[0mnow\u001b[0m\u001b[0;34m:\u001b[0m\u001b[0;34m\u001b[0m\u001b[0m\n\u001b[0;32m--> 257\u001b[0;31m             \u001b[0m_do\u001b[0m\u001b[0;34m(\u001b[0m\u001b[0;34m)\u001b[0m\u001b[0;34m\u001b[0m\u001b[0m\n\u001b[0m\u001b[1;32m    258\u001b[0m         \u001b[0;32melse\u001b[0m\u001b[0;34m:\u001b[0m\u001b[0;34m\u001b[0m\u001b[0m\n\u001b[1;32m    259\u001b[0m             \u001b[0mself\u001b[0m\u001b[0;34m.\u001b[0m\u001b[0madd_command\u001b[0m\u001b[0;34m(\u001b[0m\u001b[0mCommand\u001b[0m\u001b[0;34m(\u001b[0m\u001b[0mdo\u001b[0m\u001b[0;34m=\u001b[0m\u001b[0m_do\u001b[0m\u001b[0;34m)\u001b[0m\u001b[0;34m)\u001b[0m\u001b[0;34m\u001b[0m\u001b[0m\n",
      "\u001b[0;32m/Users/andysigler/Documents/opentrons-api/opentrons/robot/robot.py\u001b[0m in \u001b[0;36m_do\u001b[0;34m()\u001b[0m\n\u001b[1;32m    242\u001b[0m             \u001b[0;32mif\u001b[0m \u001b[0mstrategy\u001b[0m \u001b[0;34m==\u001b[0m \u001b[0;34m'arc'\u001b[0m\u001b[0;34m:\u001b[0m\u001b[0;34m\u001b[0m\u001b[0m\n\u001b[1;32m    243\u001b[0m                 \u001b[0mself\u001b[0m\u001b[0;34m.\u001b[0m\u001b[0m_driver\u001b[0m\u001b[0;34m.\u001b[0m\u001b[0mmove_head\u001b[0m\u001b[0;34m(\u001b[0m\u001b[0mz\u001b[0m\u001b[0;34m=\u001b[0m\u001b[0mtallest_z\u001b[0m\u001b[0;34m)\u001b[0m\u001b[0;34m\u001b[0m\u001b[0m\n\u001b[0;32m--> 244\u001b[0;31m                 \u001b[0mself\u001b[0m\u001b[0;34m.\u001b[0m\u001b[0m_driver\u001b[0m\u001b[0;34m.\u001b[0m\u001b[0mmove_head\u001b[0m\u001b[0;34m(\u001b[0m\u001b[0mx\u001b[0m\u001b[0;34m=\u001b[0m\u001b[0mcoordinates\u001b[0m\u001b[0;34m[\u001b[0m\u001b[0;36m0\u001b[0m\u001b[0;34m]\u001b[0m\u001b[0;34m,\u001b[0m \u001b[0my\u001b[0m\u001b[0;34m=\u001b[0m\u001b[0mcoordinates\u001b[0m\u001b[0;34m[\u001b[0m\u001b[0;36m1\u001b[0m\u001b[0;34m]\u001b[0m\u001b[0;34m)\u001b[0m\u001b[0;34m\u001b[0m\u001b[0m\n\u001b[0m\u001b[1;32m    245\u001b[0m                 \u001b[0mself\u001b[0m\u001b[0;34m.\u001b[0m\u001b[0m_driver\u001b[0m\u001b[0;34m.\u001b[0m\u001b[0mmove_head\u001b[0m\u001b[0;34m(\u001b[0m\u001b[0mz\u001b[0m\u001b[0;34m=\u001b[0m\u001b[0mcoordinates\u001b[0m\u001b[0;34m[\u001b[0m\u001b[0;36m2\u001b[0m\u001b[0;34m]\u001b[0m\u001b[0;34m)\u001b[0m\u001b[0;34m\u001b[0m\u001b[0m\n\u001b[1;32m    246\u001b[0m             \u001b[0;32melif\u001b[0m \u001b[0mstrategy\u001b[0m \u001b[0;34m==\u001b[0m \u001b[0;34m'direct'\u001b[0m\u001b[0;34m:\u001b[0m\u001b[0;34m\u001b[0m\u001b[0m\n",
      "\u001b[0;32m/Users/andysigler/Documents/opentrons-api/opentrons/drivers/motor.py\u001b[0m in \u001b[0;36mmove_head\u001b[0;34m(self, mode, **kwargs)\u001b[0m\n\u001b[1;32m    329\u001b[0m                  for axis in 'xyz' if axis in kwargs})\n\u001b[1;32m    330\u001b[0m \u001b[0;34m\u001b[0m\u001b[0m\n\u001b[0;32m--> 331\u001b[0;31m         \u001b[0;32mreturn\u001b[0m \u001b[0mself\u001b[0m\u001b[0;34m.\u001b[0m\u001b[0mconsume_move_commands\u001b[0m\u001b[0;34m(\u001b[0m\u001b[0margs_list\u001b[0m\u001b[0;34m,\u001b[0m \u001b[0mincrement\u001b[0m\u001b[0;34m)\u001b[0m\u001b[0;34m\u001b[0m\u001b[0m\n\u001b[0m\u001b[1;32m    332\u001b[0m \u001b[0;34m\u001b[0m\u001b[0m\n\u001b[1;32m    333\u001b[0m     \u001b[0;32mdef\u001b[0m \u001b[0mconsume_move_commands\u001b[0m\u001b[0;34m(\u001b[0m\u001b[0mself\u001b[0m\u001b[0;34m,\u001b[0m \u001b[0margs_list\u001b[0m\u001b[0;34m,\u001b[0m \u001b[0mstep\u001b[0m\u001b[0;34m)\u001b[0m\u001b[0;34m:\u001b[0m\u001b[0;34m\u001b[0m\u001b[0m\n",
      "\u001b[0;32m/Users/andysigler/Documents/opentrons-api/opentrons/drivers/motor.py\u001b[0m in \u001b[0;36mconsume_move_commands\u001b[0;34m(self, args_list, step)\u001b[0m\n\u001b[1;32m    344\u001b[0m                 \u001b[0;32mbreak\u001b[0m\u001b[0;34m\u001b[0m\u001b[0m\n\u001b[1;32m    345\u001b[0m \u001b[0;34m\u001b[0m\u001b[0m\n\u001b[0;32m--> 346\u001b[0;31m             \u001b[0mself\u001b[0m\u001b[0;34m.\u001b[0m\u001b[0mwait_for_arrival\u001b[0m\u001b[0;34m(\u001b[0m\u001b[0mtolerance\u001b[0m\u001b[0;34m)\u001b[0m\u001b[0;34m\u001b[0m\u001b[0m\n\u001b[0m\u001b[1;32m    347\u001b[0m \u001b[0;34m\u001b[0m\u001b[0m\n\u001b[1;32m    348\u001b[0m             \u001b[0mlog\u001b[0m\u001b[0;34m.\u001b[0m\u001b[0mdebug\u001b[0m\u001b[0;34m(\u001b[0m\u001b[0;34m\"Moving head: {}\"\u001b[0m\u001b[0;34m.\u001b[0m\u001b[0mformat\u001b[0m\u001b[0;34m(\u001b[0m\u001b[0margs\u001b[0m\u001b[0;34m)\u001b[0m\u001b[0;34m)\u001b[0m\u001b[0;34m\u001b[0m\u001b[0m\n",
      "\u001b[0;32m/Users/andysigler/Documents/opentrons-api/opentrons/drivers/motor.py\u001b[0m in \u001b[0;36mwait_for_arrival\u001b[0;34m(self, tolerance)\u001b[0m\n\u001b[1;32m    373\u001b[0m         \u001b[0mcoords\u001b[0m \u001b[0;34m=\u001b[0m \u001b[0mself\u001b[0m\u001b[0;34m.\u001b[0m\u001b[0mget_position\u001b[0m\u001b[0;34m(\u001b[0m\u001b[0;34m)\u001b[0m\u001b[0;34m\u001b[0m\u001b[0m\n\u001b[1;32m    374\u001b[0m         \u001b[0;32mwhile\u001b[0m \u001b[0;32mnot\u001b[0m \u001b[0marrived\u001b[0m\u001b[0;34m:\u001b[0m\u001b[0;34m\u001b[0m\u001b[0m\n\u001b[0;32m--> 375\u001b[0;31m             \u001b[0mcoords\u001b[0m \u001b[0;34m=\u001b[0m \u001b[0mself\u001b[0m\u001b[0;34m.\u001b[0m\u001b[0mget_position\u001b[0m\u001b[0;34m(\u001b[0m\u001b[0;34m)\u001b[0m\u001b[0;34m\u001b[0m\u001b[0m\n\u001b[0m\u001b[1;32m    376\u001b[0m             \u001b[0mdiff\u001b[0m \u001b[0;34m=\u001b[0m \u001b[0;34m{\u001b[0m\u001b[0;34m}\u001b[0m\u001b[0;34m\u001b[0m\u001b[0m\n\u001b[1;32m    377\u001b[0m             \u001b[0;32mfor\u001b[0m \u001b[0maxis\u001b[0m \u001b[0;32min\u001b[0m \u001b[0mcoords\u001b[0m\u001b[0;34m.\u001b[0m\u001b[0mget\u001b[0m\u001b[0;34m(\u001b[0m\u001b[0;34m'target'\u001b[0m\u001b[0;34m,\u001b[0m \u001b[0;34m{\u001b[0m\u001b[0;34m}\u001b[0m\u001b[0;34m)\u001b[0m\u001b[0;34m:\u001b[0m\u001b[0;34m\u001b[0m\u001b[0m\n",
      "\u001b[0;32m/Users/andysigler/Documents/opentrons-api/opentrons/drivers/motor.py\u001b[0m in \u001b[0;36mget_position\u001b[0;34m(self)\u001b[0m\n\u001b[1;32m    453\u001b[0m \u001b[0;34m\u001b[0m\u001b[0m\n\u001b[1;32m    454\u001b[0m     \u001b[0;32mdef\u001b[0m \u001b[0mget_position\u001b[0m\u001b[0;34m(\u001b[0m\u001b[0mself\u001b[0m\u001b[0;34m)\u001b[0m\u001b[0;34m:\u001b[0m\u001b[0;34m\u001b[0m\u001b[0m\n\u001b[0;32m--> 455\u001b[0;31m         \u001b[0mres\u001b[0m \u001b[0;34m=\u001b[0m \u001b[0mself\u001b[0m\u001b[0;34m.\u001b[0m\u001b[0msend_command\u001b[0m\u001b[0;34m(\u001b[0m\u001b[0mself\u001b[0m\u001b[0;34m.\u001b[0m\u001b[0mGET_POSITION\u001b[0m\u001b[0;34m)\u001b[0m\u001b[0;34m\u001b[0m\u001b[0m\n\u001b[0m\u001b[1;32m    456\u001b[0m         \u001b[0;31m# remove the \"ok \" from beginning of response\u001b[0m\u001b[0;34m\u001b[0m\u001b[0;34m\u001b[0m\u001b[0m\n\u001b[1;32m    457\u001b[0m         \u001b[0mres\u001b[0m \u001b[0;34m=\u001b[0m \u001b[0mres\u001b[0m\u001b[0;34m.\u001b[0m\u001b[0mdecode\u001b[0m\u001b[0;34m(\u001b[0m\u001b[0;34m'utf-8'\u001b[0m\u001b[0;34m)\u001b[0m\u001b[0;34m[\u001b[0m\u001b[0;36m3\u001b[0m\u001b[0;34m:\u001b[0m\u001b[0;34m]\u001b[0m\u001b[0;34m\u001b[0m\u001b[0m\n",
      "\u001b[0;32m/Users/andysigler/Documents/opentrons-api/opentrons/drivers/motor.py\u001b[0m in \u001b[0;36msend_command\u001b[0;34m(self, command, **kwargs)\u001b[0m\n\u001b[1;32m    207\u001b[0m         \u001b[0margs\u001b[0m \u001b[0;34m=\u001b[0m \u001b[0;34m' '\u001b[0m\u001b[0;34m.\u001b[0m\u001b[0mjoin\u001b[0m\u001b[0;34m(\u001b[0m\u001b[0;34m[\u001b[0m\u001b[0;34m'{}{}'\u001b[0m\u001b[0;34m.\u001b[0m\u001b[0mformat\u001b[0m\u001b[0;34m(\u001b[0m\u001b[0mk\u001b[0m\u001b[0;34m,\u001b[0m \u001b[0mv\u001b[0m\u001b[0;34m)\u001b[0m \u001b[0;32mfor\u001b[0m \u001b[0mk\u001b[0m\u001b[0;34m,\u001b[0m \u001b[0mv\u001b[0m \u001b[0;32min\u001b[0m \u001b[0mkwargs\u001b[0m\u001b[0;34m.\u001b[0m\u001b[0mitems\u001b[0m\u001b[0;34m(\u001b[0m\u001b[0;34m)\u001b[0m\u001b[0;34m]\u001b[0m\u001b[0;34m)\u001b[0m\u001b[0;34m\u001b[0m\u001b[0m\n\u001b[1;32m    208\u001b[0m         \u001b[0mcommand\u001b[0m \u001b[0;34m=\u001b[0m \u001b[0;34m'{} {}\\r\\n'\u001b[0m\u001b[0;34m.\u001b[0m\u001b[0mformat\u001b[0m\u001b[0;34m(\u001b[0m\u001b[0mcommand\u001b[0m\u001b[0;34m,\u001b[0m \u001b[0margs\u001b[0m\u001b[0;34m)\u001b[0m\u001b[0;34m\u001b[0m\u001b[0m\n\u001b[0;32m--> 209\u001b[0;31m         \u001b[0mresponse\u001b[0m \u001b[0;34m=\u001b[0m \u001b[0mself\u001b[0m\u001b[0;34m.\u001b[0m\u001b[0mwrite_to_serial\u001b[0m\u001b[0;34m(\u001b[0m\u001b[0mcommand\u001b[0m\u001b[0;34m)\u001b[0m\u001b[0;34m\u001b[0m\u001b[0m\n\u001b[0m\u001b[1;32m    210\u001b[0m         \u001b[0;32mreturn\u001b[0m \u001b[0mresponse\u001b[0m\u001b[0;34m\u001b[0m\u001b[0m\n\u001b[1;32m    211\u001b[0m \u001b[0;34m\u001b[0m\u001b[0m\n",
      "\u001b[0;32m/Users/andysigler/Documents/opentrons-api/opentrons/drivers/motor.py\u001b[0m in \u001b[0;36mwrite_to_serial\u001b[0;34m(self, data, max_tries, try_interval)\u001b[0m\n\u001b[1;32m    217\u001b[0m         \u001b[0;32mif\u001b[0m \u001b[0mself\u001b[0m\u001b[0;34m.\u001b[0m\u001b[0mis_connected\u001b[0m\u001b[0;34m(\u001b[0m\u001b[0;34m)\u001b[0m\u001b[0;34m:\u001b[0m\u001b[0;34m\u001b[0m\u001b[0m\n\u001b[1;32m    218\u001b[0m             \u001b[0mself\u001b[0m\u001b[0;34m.\u001b[0m\u001b[0mconnection\u001b[0m\u001b[0;34m.\u001b[0m\u001b[0mwrite\u001b[0m\u001b[0;34m(\u001b[0m\u001b[0mstr\u001b[0m\u001b[0;34m(\u001b[0m\u001b[0mdata\u001b[0m\u001b[0;34m)\u001b[0m\u001b[0;34m.\u001b[0m\u001b[0mencode\u001b[0m\u001b[0;34m(\u001b[0m\u001b[0;34m)\u001b[0m\u001b[0;34m)\u001b[0m\u001b[0;34m\u001b[0m\u001b[0m\n\u001b[0;32m--> 219\u001b[0;31m             \u001b[0;32mreturn\u001b[0m \u001b[0mself\u001b[0m\u001b[0;34m.\u001b[0m\u001b[0mwait_for_response\u001b[0m\u001b[0;34m(\u001b[0m\u001b[0;34m)\u001b[0m\u001b[0;34m\u001b[0m\u001b[0m\n\u001b[0m\u001b[1;32m    220\u001b[0m         \u001b[0;32melif\u001b[0m \u001b[0mmax_tries\u001b[0m \u001b[0;34m>\u001b[0m \u001b[0;36m0\u001b[0m\u001b[0;34m:\u001b[0m\u001b[0;34m\u001b[0m\u001b[0m\n\u001b[1;32m    221\u001b[0m             \u001b[0mself\u001b[0m\u001b[0;34m.\u001b[0m\u001b[0mreset_port\u001b[0m\u001b[0;34m(\u001b[0m\u001b[0;34m)\u001b[0m\u001b[0;34m\u001b[0m\u001b[0m\n",
      "\u001b[0;32m/Users/andysigler/Documents/opentrons-api/opentrons/drivers/motor.py\u001b[0m in \u001b[0;36mwait_for_response\u001b[0;34m(self, timeout)\u001b[0m\n\u001b[1;32m    232\u001b[0m         \u001b[0;32mwhile\u001b[0m \u001b[0mcount\u001b[0m \u001b[0;34m<\u001b[0m \u001b[0mmax_retries\u001b[0m\u001b[0;34m:\u001b[0m\u001b[0;34m\u001b[0m\u001b[0m\n\u001b[1;32m    233\u001b[0m             \u001b[0mcount\u001b[0m \u001b[0;34m=\u001b[0m \u001b[0mcount\u001b[0m \u001b[0;34m+\u001b[0m \u001b[0;36m1\u001b[0m\u001b[0;34m\u001b[0m\u001b[0m\n\u001b[0;32m--> 234\u001b[0;31m             \u001b[0mout\u001b[0m \u001b[0;34m=\u001b[0m \u001b[0mself\u001b[0m\u001b[0;34m.\u001b[0m\u001b[0mreadline_from_serial\u001b[0m\u001b[0;34m(\u001b[0m\u001b[0;34m)\u001b[0m\u001b[0;34m\u001b[0m\u001b[0m\n\u001b[0m\u001b[1;32m    235\u001b[0m             \u001b[0;32mif\u001b[0m \u001b[0mout\u001b[0m\u001b[0;34m:\u001b[0m\u001b[0;34m\u001b[0m\u001b[0m\n\u001b[1;32m    236\u001b[0m                 log.debug(\n",
      "\u001b[0;32m/Users/andysigler/Documents/opentrons-api/opentrons/drivers/motor.py\u001b[0m in \u001b[0;36mreadline_from_serial\u001b[0;34m(self)\u001b[0m\n\u001b[1;32m    275\u001b[0m                 \u001b[0;32mif\u001b[0m \u001b[0;34m(\u001b[0m\u001b[0;34m'min_'\u001b[0m \u001b[0;34m+\u001b[0m \u001b[0max\u001b[0m\u001b[0;34m)\u001b[0m \u001b[0;32min\u001b[0m \u001b[0mmsg\u001b[0m\u001b[0;34m:\u001b[0m\u001b[0;34m\u001b[0m\u001b[0m\n\u001b[1;32m    276\u001b[0m                     \u001b[0maxis\u001b[0m \u001b[0;34m=\u001b[0m \u001b[0max\u001b[0m\u001b[0;34m\u001b[0m\u001b[0m\n\u001b[0;32m--> 277\u001b[0;31m             \u001b[0;32mraise\u001b[0m \u001b[0mRuntimeWarning\u001b[0m\u001b[0;34m(\u001b[0m\u001b[0;34m'{} limit switch hit'\u001b[0m\u001b[0;34m.\u001b[0m\u001b[0mformat\u001b[0m\u001b[0;34m(\u001b[0m\u001b[0maxis\u001b[0m\u001b[0;34m.\u001b[0m\u001b[0mupper\u001b[0m\u001b[0;34m(\u001b[0m\u001b[0;34m)\u001b[0m\u001b[0;34m)\u001b[0m\u001b[0;34m)\u001b[0m\u001b[0;34m\u001b[0m\u001b[0m\n\u001b[0m\u001b[1;32m    278\u001b[0m \u001b[0;34m\u001b[0m\u001b[0m\n\u001b[1;32m    279\u001b[0m         \u001b[0;32mreturn\u001b[0m \u001b[0mmsg\u001b[0m\u001b[0;34m\u001b[0m\u001b[0m\n",
      "\u001b[0;31mRuntimeWarning\u001b[0m: Y limit switch hit"
     ]
    }
   ],
   "source": [
    "robot.connect(robot.get_serial_ports_list()[0])\n",
    "robot.run()"
   ]
  },
  {
   "cell_type": "code",
   "execution_count": 8,
   "metadata": {
    "collapsed": false
   },
   "outputs": [
    {
     "data": {
      "text/plain": [
       "True"
      ]
     },
     "execution_count": 8,
     "metadata": {},
     "output_type": "execute_result"
    }
   ],
   "source": [
    "robot.home(now=True)"
   ]
  },
  {
   "cell_type": "code",
   "execution_count": null,
   "metadata": {
    "collapsed": true
   },
   "outputs": [],
   "source": []
  }
 ],
 "metadata": {
  "anaconda-cloud": {},
  "kernelspec": {
   "display_name": "Python 3",
   "language": "python",
   "name": "python3"
  },
  "language_info": {
   "codemirror_mode": {
    "name": "ipython",
    "version": 3
   },
   "file_extension": ".py",
   "mimetype": "text/x-python",
   "name": "python",
   "nbconvert_exporter": "python",
   "pygments_lexer": "ipython3",
   "version": "3.5.1"
  }
 },
 "nbformat": 4,
 "nbformat_minor": 1
}
