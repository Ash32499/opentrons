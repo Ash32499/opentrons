{
 "cells": [
  {
   "cell_type": "code",
   "execution_count": 1,
   "metadata": {
    "collapsed": false
   },
   "outputs": [],
   "source": [
    "# This cell loads in the API\n",
    "# and then prints out the serial ports\n",
    "\n",
    "# !pip install --upgrade git+git://github.com/OpenTrons/opentrons_sdk.git@master#egg=opentrons\n",
    "\n",
    "from opentrons import containers\n",
    "from opentrons import instruments\n",
    "from opentrons.robot import Robot\n",
    "\n",
    "robot = Robot.get_instance()\n",
    "# robot.get_serial_ports_list()"
   ]
  },
  {
   "cell_type": "code",
   "execution_count": 2,
   "metadata": {
    "collapsed": false,
    "scrolled": true
   },
   "outputs": [
    {
     "data": {
      "text/plain": [
       "True"
      ]
     },
     "execution_count": 2,
     "metadata": {},
     "output_type": "execute_result"
    }
   ],
   "source": [
    "# this cell connects to a robot and immediately homes\n",
    "# if .connect() is called without a port, the smoothieboard is simulated\n",
    "\n",
    "robot.connect() # virtual smoothieboard\n",
    "# robot.connect('/dev/tty.usbmodem1421')\n",
    "# robot.home(now=True)\n"
   ]
  },
  {
   "cell_type": "code",
   "execution_count": 3,
   "metadata": {
    "collapsed": false
   },
   "outputs": [
    {
     "data": {
      "text/plain": [
       "<opentrons.instruments.pipette.Pipette at 0x111d18f60>"
      ]
     },
     "execution_count": 3,
     "metadata": {},
     "output_type": "execute_result"
    }
   ],
   "source": [
    "# this cells is similar to the Deck and Head sections in a JSON protocol\n",
    "\n",
    "# Create a JSON protocol with the exact same containers and pipettes as here\n",
    "# They must be the same type, have the same user-defined names, and pipette's on the same axis (a or b)\n",
    "\n",
    "p10rack = containers.load(\n",
    "    'tiprack-10ul',  # container type\n",
    "    'C2',             # slot\n",
    "    'p10-rack'         # user-defined name, optional for now\n",
    ")\n",
    "p200rack = containers.load(\n",
    "    'tiprack-200ul',  # container type\n",
    "    'A1',             # slot\n",
    "    'p200-rack'         # user-defined name, optional for now\n",
    ")\n",
    "trough = containers.load(\n",
    "    'trough-12row',\n",
    "    'E1',\n",
    "    'trough'\n",
    ")\n",
    "plate = containers.load(\n",
    "    '96-PCR-flat',\n",
    "    'C1',\n",
    "    'plate'\n",
    ")\n",
    "trash = containers.load(\n",
    "    'point',\n",
    "    'B2',\n",
    "    'trash'\n",
    ")\n",
    "    \n",
    "p200 = instruments.Pipette(\n",
    "    name=\"p200\", # optional\n",
    "    trash_container=trash,\n",
    "    tip_racks=[p200rack],\n",
    "    min_volume=20, # actual minimum volume of the pipette\n",
    "    axis=\"a\",\n",
    "    channels=8 # \n",
    ")\n",
    "\n",
    "p200.set_max_volume(200)  # volume calibration, can be called whenever you want\n",
    "\n",
    "p10 = instruments.Pipette(\n",
    "    name=\"p10\", # optional\n",
    "    trash_container=trash,\n",
    "    tip_racks=[p10rack],\n",
    "    min_volume=1, # actual minimum volume of the pipette\n",
    "    axis=\"b\",\n",
    "    channels=1 # 1 o\n",
    ")\n",
    "    \n",
    "p10.set_max_volume(10)"
   ]
  },
  {
   "cell_type": "code",
   "execution_count": 4,
   "metadata": {
    "collapsed": false
   },
   "outputs": [],
   "source": [
    "# assume these\n",
    "sample_numbers = 3\n",
    "sample_location = plate.rows[0] #first row of plate\n",
    "diluent_location = trough['A1'] #what the samples are diluted with\n",
    "\n",
    "# inputs from user\n",
    "dilution_number = 3 # how many dilutions\n",
    "dilution_factor = 10 # dilution factor 10X\n",
    "dilution_volume = 200 # in uL\n",
    "\n",
    "# calculate remaining volumes\n",
    "# C1V1 = C2V2\n",
    "# (initial concentration)(initial volume) = (final concentration)(final volume)\n",
    "# (dilution_factor)(sample_volume) = (1X)(dilution_volume)\n",
    "\n",
    "sample_volume = (dilution_volume)/(dilution_factor)\n",
    "diluent_volume = dilution_volume - sample_volume"
   ]
  },
  {
   "cell_type": "code",
   "execution_count": 5,
   "metadata": {
    "collapsed": false
   },
   "outputs": [
    {
     "ename": "ValueError",
     "evalue": "Location should be (Placeable, (x, y, z)) or Placeable",
     "output_type": "error",
     "traceback": [
      "\u001b[0;31m---------------------------------------------------------------------------\u001b[0m",
      "\u001b[0;31mValueError\u001b[0m                                Traceback (most recent call last)",
      "\u001b[0;32m<ipython-input-5-f6801a9f109f>\u001b[0m in \u001b[0;36m<module>\u001b[0;34m()\u001b[0m\n\u001b[1;32m     31\u001b[0m     \u001b[0mp200\u001b[0m\u001b[0;34m.\u001b[0m\u001b[0mpick_up_tip\u001b[0m\u001b[0;34m(\u001b[0m\u001b[0;34m)\u001b[0m\u001b[0;34m\u001b[0m\u001b[0m\n\u001b[1;32m     32\u001b[0m     \u001b[0;32mfor\u001b[0m \u001b[0mi\u001b[0m \u001b[0;32min\u001b[0m \u001b[0mrange\u001b[0m\u001b[0;34m(\u001b[0m\u001b[0;36m0\u001b[0m\u001b[0;34m,\u001b[0m \u001b[0mdilution_number\u001b[0m\u001b[0;34m)\u001b[0m\u001b[0;34m:\u001b[0m\u001b[0;34m\u001b[0m\u001b[0m\n\u001b[0;32m---> 33\u001b[0;31m         \u001b[0mp200\u001b[0m\u001b[0;34m.\u001b[0m\u001b[0maspirate\u001b[0m\u001b[0;34m(\u001b[0m\u001b[0msample_volume\u001b[0m\u001b[0;34m,\u001b[0m \u001b[0mplate\u001b[0m\u001b[0;34m.\u001b[0m\u001b[0mrows\u001b[0m\u001b[0;34m[\u001b[0m\u001b[0mi\u001b[0m\u001b[0;34m]\u001b[0m\u001b[0;34m)\u001b[0m\u001b[0;34m.\u001b[0m\u001b[0mdispense\u001b[0m\u001b[0;34m(\u001b[0m\u001b[0mplate\u001b[0m\u001b[0;34m.\u001b[0m\u001b[0mrows\u001b[0m\u001b[0;34m[\u001b[0m\u001b[0mi\u001b[0m \u001b[0;34m+\u001b[0m \u001b[0;36m1\u001b[0m\u001b[0;34m]\u001b[0m\u001b[0;34m)\u001b[0m\u001b[0;34m.\u001b[0m\u001b[0mmix\u001b[0m\u001b[0;34m(\u001b[0m\u001b[0msample_volume\u001b[0m\u001b[0;34m,\u001b[0m \u001b[0mplate\u001b[0m\u001b[0;34m.\u001b[0m\u001b[0mrows\u001b[0m\u001b[0;34m[\u001b[0m\u001b[0mi\u001b[0m \u001b[0;34m+\u001b[0m \u001b[0;36m1\u001b[0m\u001b[0;34m]\u001b[0m\u001b[0;34m,\u001b[0m \u001b[0;36m3\u001b[0m\u001b[0;34m)\u001b[0m\u001b[0;34m\u001b[0m\u001b[0m\n\u001b[0m\u001b[1;32m     34\u001b[0m     \u001b[0mp200\u001b[0m\u001b[0;34m.\u001b[0m\u001b[0mdrop_tip\u001b[0m\u001b[0;34m(\u001b[0m\u001b[0;34m)\u001b[0m\u001b[0;34m\u001b[0m\u001b[0m\n",
      "\u001b[0;32m/Users/andysigler/Documents/opentrons-api/opentrons/instruments/pipette.py\u001b[0m in \u001b[0;36mmix\u001b[0;34m(self, volume, repetitions, location)\u001b[0m\n\u001b[1;32m    217\u001b[0m         \u001b[0mself\u001b[0m\u001b[0;34m.\u001b[0m\u001b[0mrobot\u001b[0m\u001b[0;34m.\u001b[0m\u001b[0madd_command\u001b[0m\u001b[0;34m(\u001b[0m\u001b[0mCommand\u001b[0m\u001b[0;34m(\u001b[0m\u001b[0mdo\u001b[0m\u001b[0;34m=\u001b[0m\u001b[0m_do\u001b[0m\u001b[0;34m,\u001b[0m \u001b[0mdescription\u001b[0m\u001b[0;34m=\u001b[0m\u001b[0mdescription\u001b[0m\u001b[0;34m)\u001b[0m\u001b[0;34m)\u001b[0m\u001b[0;34m\u001b[0m\u001b[0m\n\u001b[1;32m    218\u001b[0m \u001b[0;34m\u001b[0m\u001b[0m\n\u001b[0;32m--> 219\u001b[0;31m         \u001b[0mself\u001b[0m\u001b[0;34m.\u001b[0m\u001b[0maspirate\u001b[0m\u001b[0;34m(\u001b[0m\u001b[0mlocation\u001b[0m\u001b[0;34m=\u001b[0m\u001b[0mlocation\u001b[0m\u001b[0;34m,\u001b[0m \u001b[0mvolume\u001b[0m\u001b[0;34m=\u001b[0m\u001b[0mvolume\u001b[0m\u001b[0;34m)\u001b[0m\u001b[0;34m\u001b[0m\u001b[0m\n\u001b[0m\u001b[1;32m    220\u001b[0m         \u001b[0;32mfor\u001b[0m \u001b[0mi\u001b[0m \u001b[0;32min\u001b[0m \u001b[0mrange\u001b[0m\u001b[0;34m(\u001b[0m\u001b[0mrepetitions\u001b[0m \u001b[0;34m-\u001b[0m \u001b[0;36m1\u001b[0m\u001b[0;34m)\u001b[0m\u001b[0;34m:\u001b[0m\u001b[0;34m\u001b[0m\u001b[0m\n\u001b[1;32m    221\u001b[0m             \u001b[0mself\u001b[0m\u001b[0;34m.\u001b[0m\u001b[0mdispense\u001b[0m\u001b[0;34m(\u001b[0m\u001b[0mvolume\u001b[0m\u001b[0;34m)\u001b[0m\u001b[0;34m\u001b[0m\u001b[0m\n",
      "\u001b[0;32m/Users/andysigler/Documents/opentrons-api/opentrons/instruments/pipette.py\u001b[0m in \u001b[0;36maspirate\u001b[0;34m(self, volume, location, rate)\u001b[0m\n\u001b[1;32m    149\u001b[0m         description = \"Aspirating {0}uL at {1}\".format(\n\u001b[1;32m    150\u001b[0m             \u001b[0mvolume\u001b[0m\u001b[0;34m,\u001b[0m\u001b[0;34m\u001b[0m\u001b[0m\n\u001b[0;32m--> 151\u001b[0;31m             \u001b[0;34m(\u001b[0m\u001b[0mhumanize_location\u001b[0m\u001b[0;34m(\u001b[0m\u001b[0mlocation\u001b[0m\u001b[0;34m)\u001b[0m \u001b[0;32mif\u001b[0m \u001b[0mlocation\u001b[0m \u001b[0;32melse\u001b[0m \u001b[0;34m'<In Place>'\u001b[0m\u001b[0;34m)\u001b[0m\u001b[0;34m\u001b[0m\u001b[0m\n\u001b[0m\u001b[1;32m    152\u001b[0m         )\n\u001b[1;32m    153\u001b[0m         self.robot.add_command(\n",
      "\u001b[0;32m/Users/andysigler/Documents/opentrons-api/opentrons/containers/placeable.py\u001b[0m in \u001b[0;36mhumanize_location\u001b[0;34m(location)\u001b[0m\n\u001b[1;32m     29\u001b[0m \u001b[0;34m\u001b[0m\u001b[0m\n\u001b[1;32m     30\u001b[0m \u001b[0;32mdef\u001b[0m \u001b[0mhumanize_location\u001b[0m\u001b[0;34m(\u001b[0m\u001b[0mlocation\u001b[0m\u001b[0;34m)\u001b[0m\u001b[0;34m:\u001b[0m\u001b[0;34m\u001b[0m\u001b[0m\n\u001b[0;32m---> 31\u001b[0;31m     \u001b[0mwell\u001b[0m\u001b[0;34m,\u001b[0m \u001b[0m_\u001b[0m \u001b[0;34m=\u001b[0m \u001b[0munpack_location\u001b[0m\u001b[0;34m(\u001b[0m\u001b[0mlocation\u001b[0m\u001b[0;34m)\u001b[0m\u001b[0;34m\u001b[0m\u001b[0m\n\u001b[0m\u001b[1;32m     32\u001b[0m     \u001b[0;32mreturn\u001b[0m \u001b[0mrepr\u001b[0m\u001b[0;34m(\u001b[0m\u001b[0mwell\u001b[0m\u001b[0;34m)\u001b[0m\u001b[0;34m\u001b[0m\u001b[0m\n\u001b[1;32m     33\u001b[0m \u001b[0;34m\u001b[0m\u001b[0m\n",
      "\u001b[0;32m/Users/andysigler/Documents/opentrons-api/opentrons/containers/placeable.py\u001b[0m in \u001b[0;36munpack_location\u001b[0;34m(location)\u001b[0m\n\u001b[1;32m     23\u001b[0m     \u001b[0;32melse\u001b[0m\u001b[0;34m:\u001b[0m\u001b[0;34m\u001b[0m\u001b[0m\n\u001b[1;32m     24\u001b[0m         raise ValueError(\n\u001b[0;32m---> 25\u001b[0;31m             \u001b[0;34m'Location should be (Placeable, (x, y, z)) or Placeable'\u001b[0m\u001b[0;34m\u001b[0m\u001b[0m\n\u001b[0m\u001b[1;32m     26\u001b[0m         )\n\u001b[1;32m     27\u001b[0m     \u001b[0;32mreturn\u001b[0m \u001b[0;34m(\u001b[0m\u001b[0mplaceable\u001b[0m\u001b[0;34m,\u001b[0m \u001b[0mVector\u001b[0m\u001b[0;34m(\u001b[0m\u001b[0mcoordinates\u001b[0m\u001b[0;34m)\u001b[0m\u001b[0;34m)\u001b[0m\u001b[0;34m\u001b[0m\u001b[0m\n",
      "\u001b[0;31mValueError\u001b[0m: Location should be (Placeable, (x, y, z)) or Placeable"
     ]
    }
   ],
   "source": [
    "# distribute diluent_volume\n",
    "robot.clear()\n",
    "\n",
    "# add diluent to plate based on volume\n",
    "if diluent_volume <= 10:    \n",
    "    p200.pick_up_tip()\n",
    "    for i in range(1, dilution_number + 1):\n",
    "        p200.aspirate(diluent_volume, trough['A1']).dispense(plate.rows[i])\n",
    "    p200.drop_tip()\n",
    "    \n",
    "    for col in range(sample_numbers):\n",
    "        p10.pick_up_tip()\n",
    "        for row in range(1, dilution_number):\n",
    "            p10.aspirate(diluent_volume, plate.rows[row][col]).dispense(plate.rows[row + 1][col])\n",
    "        p10.drop_tip()\n",
    "        \n",
    "else:\n",
    "    for i in range(1, dilution_number + 1):\n",
    "        p200.aspirate(diluent_volume, trough['A1']).dispense(plate.rows[i])\n",
    "    p200.drop_tip()\n",
    "\n",
    "# dilute samples through wells based on volume    \n",
    "if sample_volume <= 10:\n",
    "    for col in range(sample_numbers):\n",
    "        p10.pick_up_tip()\n",
    "        for row in range(0, dilution_number):\n",
    "            p10.aspirate(sample_volume, plate.rows[row][col]).dispense(plate.rows[row + 1][col]).mix(sample_volume, 3, plate.rows[row + 1][col])\n",
    "        p10.drop_tip() \n",
    "else:\n",
    "    # use p200\n",
    "    p200.pick_up_tip()\n",
    "    for i in range(0, dilution_number):\n",
    "        p200.aspirate(sample_volume, plate.rows[i]).dispense(plate.rows[i + 1]).mix(sample_volume, 3, plate.rows[i + 1])\n",
    "    p200.drop_tip()"
   ]
  },
  {
   "cell_type": "code",
   "execution_count": null,
   "metadata": {
    "collapsed": false
   },
   "outputs": [],
   "source": [
    "print('\\n'.join([str(c.description) for c in robot._commands]))"
   ]
  },
  {
   "cell_type": "code",
   "execution_count": null,
   "metadata": {
    "collapsed": true
   },
   "outputs": [],
   "source": []
  }
 ],
 "metadata": {
  "anaconda-cloud": {},
  "kernelspec": {
   "display_name": "Python 3",
   "language": "python",
   "name": "python3"
  },
  "language_info": {
   "codemirror_mode": {
    "name": "ipython",
    "version": 3
   },
   "file_extension": ".py",
   "mimetype": "text/x-python",
   "name": "python",
   "nbconvert_exporter": "python",
   "pygments_lexer": "ipython3",
   "version": "3.5.1"
  }
 },
 "nbformat": 4,
 "nbformat_minor": 1
}
